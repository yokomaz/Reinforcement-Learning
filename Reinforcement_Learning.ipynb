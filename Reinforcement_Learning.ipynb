{
  "nbformat": 4,
  "nbformat_minor": 0,
  "metadata": {
    "colab": {
      "provenance": [],
      "collapsed_sections": [
        "4R9EpYUreCHT",
        "GTf92msgMJlV",
        "h4SvdOw7MSH8",
        "OupJauawMpzE",
        "CKPwrhbZPsNS",
        "7w8I9Dk_4tD3",
        "hreYxY09Lcoc",
        "9nAcphdkN3BW",
        "jvk5ArU5RW1m",
        "0UYYO-kgRk0l",
        "20YsALQlc5HR",
        "URvURt-0ds-J",
        "X888G_OCpwxt"
      ],
      "gpuType": "T4"
    },
    "kernelspec": {
      "name": "python3",
      "display_name": "Python 3"
    },
    "language_info": {
      "name": "python"
    },
    "accelerator": "GPU",
    "gpuClass": "standard"
  },
  "cells": [
    {
      "cell_type": "markdown",
      "source": [
        "# **Install packages and some useful outils**"
      ],
      "metadata": {
        "id": "4R9EpYUreCHT"
      }
    },
    {
      "cell_type": "code",
      "source": [
        "!pip install gymnasium\n",
        "!pip install \"gymnasium[all]\"\n",
        "!apt-get install -y xvfb x11-utils\n",
        "!pip install pyvirtualdisplay==0.2.* \\\n",
        "             PyOpenGL==3.1.* \\\n",
        "             PyOpenGL-accelerate==3.1.*\n",
        "\n",
        "# Install virtual video device in colab\n",
        "import pyvirtualdisplay\n",
        "_display = pyvirtualdisplay.Display(visible=False,  # use False with Xvfb\n",
        "                                    size=(1400, 900))\n",
        "_ = _display.start()\n",
        "\n",
        "# Check the virtual video device is available\n",
        "!echo $DISPLAY"
      ],
      "metadata": {
        "id": "BQvVzDhn0Fxx"
      },
      "execution_count": null,
      "outputs": []
    },
    {
      "cell_type": "markdown",
      "source": [
        "# **First example(lunar lander)**"
      ],
      "metadata": {
        "id": "GTf92msgMJlV"
      }
    },
    {
      "cell_type": "markdown",
      "source": [
        "### The code from website, see more: https://towardsdatascience.com/rendering-openai-gym-envs-on-binder-and-google-colab-536f99391cc7`"
      ],
      "metadata": {
        "id": "h4SvdOw7MSH8"
      }
    },
    {
      "cell_type": "code",
      "source": [
        "import typing\n",
        "\n",
        "import gym\n",
        "import matplotlib.pyplot as plt\n",
        "import numpy as np\n",
        "from IPython import display\n",
        "\n",
        "\n",
        "# represent states as arrays and actions as ints\n",
        "State = np.ndarray\n",
        "Action = int\n",
        "\n",
        "# agent is just a function! \n",
        "Agent = typing.Callable[[State], Action]\n",
        "\n",
        "\n",
        "def uniform_random_policy(state: State,\n",
        "                          number_actions: int,\n",
        "                          random_state: np.random.RandomState) -> Action:\n",
        "    \"\"\"Select an action at random from the set of feasible actions.\"\"\"\n",
        "    feasible_actions = np.arange(number_actions)\n",
        "    probs = np.ones(number_actions) / number_actions\n",
        "    action = random_state.choice(feasible_actions, p=probs)\n",
        "    return action\n",
        "\n",
        "\n",
        "def make_random_agent(number_actions: int,\n",
        "                      random_state: np.random.RandomState = None) -> Agent:\n",
        "    \"\"\"Factory for creating an Agent.\"\"\"\n",
        "    _random_state = np.random.RandomState() if random_state is None else random_state\n",
        "    return lambda state: uniform_random_policy(state, number_actions, _random_state)\n",
        "\n",
        "\n",
        "def simulate(agent: Agent, env: gym.Env, ax: plt.Axes) -> None:\n",
        "    state = env.reset()\n",
        "    img = ax.imshow(env.render(mode='rgb_array'))\n",
        "    done = False\n",
        "    while not done:\n",
        "        action = agent(state)\n",
        "        img.set_data(env.render(mode='rgb_array')) \n",
        "        ax.axis('off')\n",
        "        display.display(plt.gcf())\n",
        "        display.clear_output(wait=True)\n",
        "        state, reward, done, _ = env.step(action)       \n",
        "    env.close()\n",
        "    \n",
        "# create the Gym environment\n",
        "lunar_lander_v2 = gym.make('LunarLander-v2')\n",
        "_ = lunar_lander_v2.seed(42)\n",
        "\n",
        "# create an agent\n",
        "random_agent = make_random_agent(lunar_lander_v2.action_space.n, random_state=None)\n",
        "\n",
        "# simulate agent interacting with the environment\n",
        "_, ax = plt.subplots(1, 1)\n",
        "simulate(random_agent, lunar_lander_v2, ax)"
      ],
      "metadata": {
        "colab": {
          "base_uri": "https://localhost:8080/",
          "height": 367
        },
        "id": "xGWkW0zdFlmS",
        "outputId": "ac49443e-b576-4108-b403-c15e2a6db4b5"
      },
      "execution_count": null,
      "outputs": [
        {
          "output_type": "display_data",
          "data": {
            "text/plain": [
              "<Figure size 640x480 with 1 Axes>"
            ],
            "image/png": "[encoded data removed]"
          },
          "metadata": {}
        }
      ]
    },
    {
      "cell_type": "markdown",
      "source": [
        "### The code from tutorial, see more: https://gymnasium.farama.org/content/basic_usage/"
      ],
      "metadata": {
        "id": "OupJauawMpzE"
      }
    },
    {
      "cell_type": "code",
      "source": [
        "import gymnasium as gym\n",
        "\n",
        "env = gym.make(\"LunarLander-v2\")\n",
        "observation, info = env.reset()\n",
        "\n",
        "for i in range(1000):\n",
        "  action = env.action_space.sample()\n",
        "  observation, reward, terminated, truncated, info = env.step(action)\n",
        "\n",
        "env.close()"
      ],
      "metadata": {
        "id": "Vbj_u0U3HeHd"
      },
      "execution_count": null,
      "outputs": []
    },
    {
      "cell_type": "markdown",
      "source": [
        "# **Second example(FrozenLake)**"
      ],
      "metadata": {
        "id": "CKPwrhbZPsNS"
      }
    },
    {
      "cell_type": "markdown",
      "source": [
        "## Implement Q-learning to FrozenLake in gym"
      ],
      "metadata": {
        "id": "7w8I9Dk_4tD3"
      }
    },
    {
      "cell_type": "code",
      "source": [
        "# Import packages\n",
        "import gymnasium as gym\n",
        "import numpy as np\n",
        "\n",
        "# Define the env we are going to use\n",
        "env = gym.make(\"FrozenLake-v1\")\n",
        "print(env.reward_range)\n",
        "\n",
        "# Initiliza the Q-table to store the state_action value\n",
        "Q_table = np.zeros((env.observation_space.n, env.action_space.n))\n",
        "\n",
        "# Define the step_size(gamma) and epsilon\n",
        "alpha_learningrate = 0.5\n",
        "epsilon = 0.1\n",
        "gamma_discount = 0.9\n",
        "\n",
        "# Define a policy for this example\n",
        "# Policy here is a ε-greedy policy\n",
        "def policy(state, epsilon):\n",
        "  if np.random.random() < epsilon:\n",
        "    action = env.action_space.sample()\n",
        "  else:\n",
        "    action = np.argmax(Q_table[state, :])\n",
        "  return action\n",
        "\n",
        "# Define a gain list to store all gain in all episodes\n",
        "gain_list = []\n",
        "\n",
        "# Start looping each episode and implement Q learning\n",
        "def Q_learning(nb_episode, length_episode):\n",
        "  for i in range(nb_episode):\n",
        "    gain = 0\n",
        "    # Initialize the start state\n",
        "    observation, info = env.reset()\n",
        "\n",
        "    for i in range(length_episode):\n",
        "      old_observation = observation\n",
        "      action = policy(old_observation, epsilon)\n",
        "      observation, reward, terminated, truncated, info = env.step(action)\n",
        "      Q_table[old_observation, action] = Q_table[old_observation, action] + alpha_learningrate*(reward + gamma_discount*np.max(Q_table[observation, :]) - Q_table[old_observation, action])\n",
        "      gain += reward\n",
        "      if terminated or truncated:\n",
        "        break\n",
        "    gain_list.append(gain)\n",
        "\n",
        "env.close()\n",
        "\n",
        "Q_learning(8000, 100)"
      ],
      "metadata": {
        "id": "_blUtrdHSa5Z",
        "colab": {
          "base_uri": "https://localhost:8080/"
        },
        "outputId": "531cf66f-c74d-4d9b-97fb-0a514a73d988"
      },
      "execution_count": null,
      "outputs": [
        {
          "output_type": "stream",
          "name": "stdout",
          "text": [
            "(0, 1)\n"
          ]
        }
      ]
    },
    {
      "cell_type": "code",
      "source": [
        "env.observation_space.sample()"
      ],
      "metadata": {
        "colab": {
          "base_uri": "https://localhost:8080/"
        },
        "id": "l9O6RGBAmk6N",
        "outputId": "80c26404-4534-4911-c70f-4e196c932fa7"
      },
      "execution_count": null,
      "outputs": [
        {
          "output_type": "execute_result",
          "data": {
            "text/plain": [
              "4"
            ]
          },
          "metadata": {},
          "execution_count": 6
        }
      ]
    },
    {
      "cell_type": "markdown",
      "source": [
        "## Draw the trajectory for the updated Q_table using greedy policy"
      ],
      "metadata": {
        "id": "hreYxY09Lcoc"
      }
    },
    {
      "cell_type": "code",
      "source": [
        "import os\n",
        "from PIL import Image\n",
        "from IPython import display\n",
        "import imageio\n",
        "import numpy as np\n",
        "import PIL.ImageDraw as ImageDraw\n",
        "import matplotlib.pyplot as plt\n",
        "from IPython.display import HTML\n",
        "\n",
        "def _label_with_episode_number(frame, episode_num):\n",
        "    im = Image.fromarray(frame)\n",
        "    drawer = ImageDraw.Draw(im)\n",
        "    if np.mean(im) < 128:\n",
        "        text_color = (255,255,255)\n",
        "    else:\n",
        "        text_color = (0,0,0)\n",
        "    #drawer.text((im.size[0]/20,im.size[1]/18), f'Episode: {episode_num+1}', fill=text_color)\n",
        "    return im\n",
        "\n",
        "frames = []\n",
        "\n",
        "env = gym.make(\"FrozenLake-v1\", render_mode='rgb_array')\n",
        "observation, info = env.reset()\n",
        "for i in range(100):\n",
        "  action = policy(observation, 0)\n",
        "  observation, reward, terminated, truncated, info = env.step(action)\n",
        "  frame = env.render()\n",
        "  frames.append(_label_with_episode_number(frame, episode_num=1))\n",
        "  if terminated or truncated:\n",
        "    break\n",
        "env.close()\n",
        "\n",
        "imageio.mimwrite(os.path.join('Trajectory_FozenLake.gif'), frames, fps=60)"
      ],
      "metadata": {
        "id": "kmPN8WY2FD7I"
      },
      "execution_count": null,
      "outputs": []
    },
    {
      "cell_type": "markdown",
      "source": [
        "# **Third example(Taxi)**"
      ],
      "metadata": {
        "id": "9nAcphdkN3BW"
      }
    },
    {
      "cell_type": "markdown",
      "source": [
        "## Implement Q-learning to Taxi in gym"
      ],
      "metadata": {
        "id": "tga5Tw94N_Xm"
      }
    },
    {
      "cell_type": "code",
      "source": [
        "# Import packages\n",
        "import gymnasium as gym\n",
        "import numpy as np\n",
        "\n",
        "# Define the env we are going to use\n",
        "env = gym.make(\"Taxi-v3\")\n",
        "\n",
        "# Initiliza the Q-table to store the state_action value\n",
        "Q_table = np.random.random((env.observation_space.n, env.action_space.n))\n",
        "\n",
        "# Define the step_size(gamma) and epsilon\n",
        "alpha = 0.5\n",
        "epsilon = 0.1\n",
        "gamma = 1\n",
        "\n",
        "# Define a policy for this example\n",
        "def policy(state, epsilon):\n",
        "  if np.random.random() < epsilon:\n",
        "    action = env.action_space.sample()\n",
        "  else:\n",
        "    action = np.argmax(Q_table[state, :])\n",
        "  return action\n",
        "\n",
        "# Define a gain list to store all gain in all episodes\n",
        "gain_list = []\n",
        "\n",
        "# Start looping each episode and implement Q learning\n",
        "def Q_learning(nb_episode):\n",
        "  for i in range(nb_episode):\n",
        "    gain = 0\n",
        "    # Initialize the start state\n",
        "    observation, info = env.reset()\n",
        "\n",
        "    while True:\n",
        "      old_observation = observation\n",
        "      action = policy(observation, epsilon)\n",
        "      observation, reward, terminated, truncated, info = env.step(action)\n",
        "      Q_table[old_observation, action] = Q_table[old_observation, action] + alpha*(reward + gamma*np.max(Q_table[observation, :]) - Q_table[old_observation, action])\n",
        "      gain += reward\n",
        "      if terminated or truncated:\n",
        "        break\n",
        "    gain_list.append(gain)\n",
        "\n",
        "env.close()\n",
        "\n",
        "Q_learning(1000)"
      ],
      "metadata": {
        "id": "DRir2wF3N-sC"
      },
      "execution_count": null,
      "outputs": []
    },
    {
      "cell_type": "code",
      "source": [
        "# Plot the gain each episode\n",
        "import matplotlib.pyplot as plt\n",
        "\n",
        "x = np.linspace(0,1000,1000)\n",
        "fig, ax = plt.subplots()\n",
        "ax.plot(x, gain_list, linewidth=2.0)\n",
        "plt.show()"
      ],
      "metadata": {
        "colab": {
          "base_uri": "https://localhost:8080/"
        },
        "id": "XEqgTrDSPhXk",
        "outputId": "f161434b-6dbc-4165-a46c-a2f053a4aca0"
      },
      "execution_count": null,
      "outputs": [
        {
          "output_type": "display_data",
          "data": {
            "text/plain": [
              "<Figure size 640x480 with 1 Axes>"
            ],
            "image/png": "[encoded data removed]"
          },
          "metadata": {}
        }
      ]
    },
    {
      "cell_type": "markdown",
      "source": [
        "## Draw the trajectory for the updated Q_table using greedy policy"
      ],
      "metadata": {
        "id": "c3nAx_frOtz8"
      }
    },
    {
      "cell_type": "code",
      "source": [
        "import os\n",
        "from PIL import Image\n",
        "from IPython import display\n",
        "import imageio\n",
        "import numpy as np\n",
        "import PIL.ImageDraw as ImageDraw\n",
        "import matplotlib.pyplot as plt\n",
        "from IPython.display import HTML\n",
        "\n",
        "env = gym.make(\"Taxi-v3\", render_mode='rgb_array')\n",
        "observation, info = env.reset()\n",
        "\n",
        "def _label_with_episode_number(frame, episode_num):\n",
        "    im = Image.fromarray(frame)\n",
        "    drawer = ImageDraw.Draw(im)\n",
        "    if np.mean(im) < 128:\n",
        "        text_color = (255,255,255)\n",
        "    else:\n",
        "        text_color = (0,0,0)\n",
        "    drawer.text((im.size[0]/20,im.size[1]/18), f'Episode: {episode_num+1}', fill=text_color)\n",
        "    return im\n",
        "\n",
        "frames = []\n",
        "for i in range(100):\n",
        "  action = policy(observation, 0.1)\n",
        "  observation, reward, terminated, truncated, info = env.step(action)\n",
        "  frame = env.render()\n",
        "  frames.append(_label_with_episode_number(frame, episode_num=1))\n",
        "  if terminated or truncated:\n",
        "    break\n",
        "env.close()\n",
        "\n",
        "imageio.mimwrite(os.path.join('Trajectory_Taxi.gif'), frames, fps=120)"
      ],
      "metadata": {
        "id": "vpKps9PUOuUV"
      },
      "execution_count": null,
      "outputs": []
    },
    {
      "cell_type": "markdown",
      "source": [
        "# **Forth example(BlackJack)**"
      ],
      "metadata": {
        "id": "jvk5ArU5RW1m"
      }
    },
    {
      "cell_type": "markdown",
      "source": [
        "## Implement Q-learning to BlackJack in gym"
      ],
      "metadata": {
        "id": "0UYYO-kgRk0l"
      }
    },
    {
      "cell_type": "code",
      "source": [
        "# Import packages\n",
        "import gymnasium as gym\n",
        "import numpy as np\n",
        "\n",
        "# Define the env we are going to use\n",
        "env = gym.make(\"Blackjack-v1\")\n",
        "\n",
        "# Initiliza the Q-table to store the state_action value\n",
        "Q_table = np.zeros((env.observation_space[0].n, env.observation_space[1].n, env.observation_space[2].n, env.action_space.n))\n",
        "\n",
        "# Define the step_size(gamma) and epsilon\n",
        "alpha = 0.5\n",
        "epsilon = 0.1\n",
        "gamma = 1\n",
        "\n",
        "# Define a policy for this example\n",
        "def policy(state, epsilon):\n",
        "  if np.random.random() < epsilon:\n",
        "    action = env.action_space.sample()\n",
        "  else:\n",
        "    action = np.argmax(Q_table[state[0], state[1], state[2], :])\n",
        "  return action\n",
        "\n",
        "# Define a gain list to store all gain in all episodes\n",
        "gain_list = []\n",
        "\n",
        "# Start looping each episode and implement Q learning\n",
        "def Q_learning(nb_episode):\n",
        "  for i in range(nb_episode):\n",
        "    gain = 0\n",
        "    # Initialize the start state\n",
        "    observation, info = env.reset()\n",
        "\n",
        "    while True:\n",
        "      old_observation = observation\n",
        "      action = policy(observation, epsilon)\n",
        "      observation, reward, terminated, truncated, info = env.step(action)\n",
        "      Q_table[old_observation[0], old_observation[1], old_observation[2], action] = Q_table[old_observation[0], old_observation[1], old_observation[2], action] + alpha*(reward + gamma*np.max(Q_table[observation[0], observation[1], observation[2], :]) - Q_table[old_observation[0], old_observation[1], old_observation[2], action])\n",
        "      gain += reward\n",
        "      if terminated or truncated:\n",
        "        break\n",
        "    gain_list.append(gain)\n",
        "\n",
        "env.close()\n",
        "\n",
        "Q_learning(1000)"
      ],
      "metadata": {
        "id": "dz6v8pA3RrKp",
        "colab": {
          "base_uri": "https://localhost:8080/"
        },
        "outputId": "f426d6c9-f9a7-43a5-9b4a-0558a59e4c59"
      },
      "execution_count": null,
      "outputs": [
        {
          "output_type": "stream",
          "name": "stderr",
          "text": [
            "/usr/local/lib/python3.9/dist-packages/ipykernel/ipkernel.py:283: DeprecationWarning: `should_run_async` will not call `transform_cell` automatically in the future. Please pass the result to `transformed_cell` argument and any exception that happen during thetransform in `preprocessing_exc_tuple` in IPython 7.17 and above.\n",
            "  and should_run_async(code)\n"
          ]
        }
      ]
    },
    {
      "cell_type": "code",
      "source": [
        "# Plot the gain each episode\n",
        "import matplotlib.pyplot as plt\n",
        "\n",
        "x = np.linspace(0,1000,1000)\n",
        "fig, ax = plt.subplots()\n",
        "ax.plot(x, gain_list, linewidth=2.0)\n",
        "plt.show()"
      ],
      "metadata": {
        "colab": {
          "base_uri": "https://localhost:8080/",
          "height": 430
        },
        "id": "MvzKYyBBZ_8n",
        "outputId": "e6bb8504-9168-4527-9ece-f93c2fdb5d66"
      },
      "execution_count": null,
      "outputs": [
        {
          "output_type": "display_data",
          "data": {
            "text/plain": [
              "<Figure size 640x480 with 1 Axes>"
            ],
            "image/png": "[encoded data removed]"
          },
          "metadata": {}
        }
      ]
    },
    {
      "cell_type": "markdown",
      "source": [
        "## Draw the trajectory for the updated Q_table using greedy policy"
      ],
      "metadata": {
        "id": "20YsALQlc5HR"
      }
    },
    {
      "cell_type": "code",
      "source": [
        "import os\n",
        "from PIL import Image\n",
        "from IPython import display\n",
        "import imageio\n",
        "import numpy as np\n",
        "import PIL.ImageDraw as ImageDraw\n",
        "import matplotlib.pyplot as plt\n",
        "from IPython.display import HTML\n",
        "\n",
        "env = gym.make(\"Blackjack-v1\", render_mode='rgb_array')\n",
        "observation, info = env.reset()\n",
        "\n",
        "def _label_with_episode_number(frame, episode_num):\n",
        "    im = Image.fromarray(frame)\n",
        "    drawer = ImageDraw.Draw(im)\n",
        "    if np.mean(im) < 128:\n",
        "        text_color = (255,255,255)\n",
        "    else:\n",
        "        text_color = (0,0,0)\n",
        "    drawer.text((im.size[0]/20,im.size[1]/18), f'Episode: {episode_num+1}', fill=text_color)\n",
        "    return im\n",
        "\n",
        "frames = []\n",
        "for t in range(10):\n",
        "  for i in range(100):\n",
        "    observation, info = env.reset()\n",
        "    action = policy(observation, 0.1)\n",
        "    observation, reward, terminated, truncated, info = env.step(action)\n",
        "    frame = env.render()\n",
        "    frames.append(_label_with_episode_number(frame, episode_num=t))\n",
        "    if terminated or truncated:\n",
        "      break\n",
        "env.close()\n",
        "\n",
        "imageio.mimwrite(os.path.join('Trajectory_Blackjack.gif'), frames, fps=120)"
      ],
      "metadata": {
        "id": "n-CjDw_zb-O9"
      },
      "execution_count": null,
      "outputs": []
    },
    {
      "cell_type": "markdown",
      "source": [
        "# **Fifth example(Cliff walking)**"
      ],
      "metadata": {
        "id": "URvURt-0ds-J"
      }
    },
    {
      "cell_type": "markdown",
      "source": [
        "## Implement Q-learning to Cliff walking in gym"
      ],
      "metadata": {
        "id": "cuJOXtfDd3CY"
      }
    },
    {
      "cell_type": "code",
      "source": [
        "# Import packages\n",
        "import gymnasium as gym\n",
        "import numpy as np\n",
        "\n",
        "# Define the env we are going to use\n",
        "env = gym.make(\"CliffWalking-v0\")\n",
        "\n",
        "# Initiliza the Q-table to store the state_action value\n",
        "Q_table = np.zeros((env.observation_space.n, env.action_space.n))\n",
        "\n",
        "# Define the step_size(gamma) and epsilon\n",
        "alpha_learningrate = 0.1\n",
        "epsilon = 0.1\n",
        "gamma_discount = 1\n",
        "\n",
        "# Define a policy for this example\n",
        "def policy(state, epsilon):\n",
        "  if np.random.random() < epsilon:\n",
        "    action = env.action_space.sample()\n",
        "  else:\n",
        "    action = np.argmax(Q_table[state, :])\n",
        "  return action\n",
        "\n",
        "# Define a gain list to store all gain in all episodes\n",
        "gain_list = []\n",
        "\n",
        "# Start looping each episode and implement Q learning\n",
        "def Q_learning(nb_episode):\n",
        "  for i in range(nb_episode):\n",
        "    gain = 0\n",
        "    #print(\"Nb of episodes:\" + str(i))\n",
        "    # Initialize the start state\n",
        "    observation, info = env.reset()\n",
        "\n",
        "    while True:\n",
        "      old_observation = observation\n",
        "      action = policy(observation, epsilon)\n",
        "      observation, reward, terminated, truncated, info = env.step(action)\n",
        "      Q_table[old_observation, action] = Q_table[old_observation, action] + alpha_learningrate * (reward + gamma_discount * np.max(Q_table[observation, :]) - Q_table[old_observation, action])\n",
        "      gain += reward\n",
        "      if terminated or truncated:\n",
        "        break\n",
        "    #print(\"Episode \" + str(i) + \" finished\")\n",
        "    gain_list.append(gain)\n",
        "\n",
        "env.close()\n",
        "\n",
        "Q_learning(1000)"
      ],
      "metadata": {
        "id": "6IPuzRYJd3ve"
      },
      "execution_count": null,
      "outputs": []
    },
    {
      "cell_type": "code",
      "source": [
        "# Plot the gain each episode\n",
        "import matplotlib.pyplot as plt\n",
        "\n",
        "x = np.linspace(0,1000,1000)\n",
        "fig, ax = plt.subplots()\n",
        "ax.plot(x, gain_list, linewidth=2.0)\n",
        "plt.show()"
      ],
      "metadata": {
        "colab": {
          "base_uri": "https://localhost:8080/",
          "height": 430
        },
        "id": "8esg1bDweeGd",
        "outputId": "b0bbb57c-99cd-45d8-b43b-9a6586661bcb"
      },
      "execution_count": null,
      "outputs": [
        {
          "output_type": "display_data",
          "data": {
            "text/plain": [
              "<Figure size 640x480 with 1 Axes>"
            ],
            "image/png": "[encoded data removed]"
          },
          "metadata": {}
        }
      ]
    },
    {
      "cell_type": "markdown",
      "source": [
        "## Draw the trajectory for the updated Q_table using greedy policy"
      ],
      "metadata": {
        "id": "Fch1u1qseVIx"
      }
    },
    {
      "cell_type": "code",
      "source": [
        "import os\n",
        "from PIL import Image\n",
        "from IPython import display\n",
        "import imageio\n",
        "import numpy as np\n",
        "import PIL.ImageDraw as ImageDraw\n",
        "import matplotlib.pyplot as plt\n",
        "from IPython.display import HTML\n",
        "\n",
        "env = gym.make(\"CliffWalking-v0\", render_mode='rgb_array')\n",
        "observation, info = env.reset()\n",
        "\n",
        "def _label_with_episode_number(frame, episode_num):\n",
        "    im = Image.fromarray(frame)\n",
        "    drawer = ImageDraw.Draw(im)\n",
        "    if np.mean(im) < 128:\n",
        "        text_color = (255,255,255)\n",
        "    else:\n",
        "        text_color = (0,0,0)\n",
        "    drawer.text((im.size[0]/20,im.size[1]/18), f'Episode: {episode_num+1}', fill=text_color)\n",
        "    return im\n",
        "\n",
        "for t in range(6):\n",
        "  observation, info = env.reset()\n",
        "  frames = []\n",
        "  for i in range(100):\n",
        "    action = policy(observation, 0.2)\n",
        "    observation, reward, terminated, truncated, info = env.step(action)\n",
        "    frame = env.render()\n",
        "    frames.append(_label_with_episode_number(frame, episode_num=t))\n",
        "    if terminated or truncated:\n",
        "      break\n",
        "env.close()\n",
        "\n",
        "imageio.mimwrite(os.path.join('Trajectory_CliffWalk.gif'), frames, fps=120)"
      ],
      "metadata": {
        "id": "rvtsJkIseYRP"
      },
      "execution_count": null,
      "outputs": []
    },
    {
      "cell_type": "code",
      "source": [],
      "metadata": {
        "id": "t_kjW-d8joVr"
      },
      "execution_count": null,
      "outputs": []
    },
    {
      "cell_type": "markdown",
      "source": [
        "# **Deep Q learning**\n"
      ],
      "metadata": {
        "id": "X888G_OCpwxt"
      }
    },
    {
      "cell_type": "code",
      "source": [
        "# Install used packages\n",
        "import gymnasium as gym\n",
        "import tensorflow as tf\n",
        "import numpy as np\n",
        "from tensorflow import keras\n",
        "\n",
        "from collections import deque\n",
        "import time\n",
        "import random\n",
        "\n",
        "from keras import layers"
      ],
      "metadata": {
        "id": "P92yTGvwpvpN"
      },
      "execution_count": null,
      "outputs": []
    },
    {
      "cell_type": "code",
      "source": [
        "# Environment here we use CartPole\n",
        "env = gym.make('CartPole-v1')\n",
        "nb_action = env.action_space.n"
      ],
      "metadata": {
        "id": "tKD3wafuqYHJ"
      },
      "execution_count": null,
      "outputs": []
    },
    {
      "cell_type": "code",
      "source": [
        "# Define a Deep Q network who will take input the environment and output the Q-value of state\n",
        "def DQN(state_shape, action_shape):\n",
        "  learning_rate = 0.0001\n",
        "  model = keras.Sequential(\n",
        "      [\n",
        "          layers.Dense(32, input_shape=state_shape, activation='relu', name='input_layer'),\n",
        "          layers.Dense(16, activation='relu', name='hidden_layer_1'),\n",
        "          layers.Dense(action_shape, activation='linear', name='output_layer'),\n",
        "      ]\n",
        "  )\n",
        "  model.compile(loss=tf.keras.losses.MeanSquaredError(), optimizer=tf.keras.optimizers.Adam(learning_rate=learning_rate), metrics=['accuracy'])\n",
        "  return model"
      ],
      "metadata": {
        "id": "RELD-SD3rL9w"
      },
      "execution_count": null,
      "outputs": []
    },
    {
      "cell_type": "code",
      "source": [
        "# Define a ε-greedy policy to select actions\n",
        "def policy(state, model, epsilon):\n",
        "  if np.random.random() < epsilon:\n",
        "    action = env.action_space.sample()\n",
        "  else:\n",
        "    predict = model(state.reshape([1,state.shape[0]]))\n",
        "    action = np.argmax(predict)\n",
        "  return action"
      ],
      "metadata": {
        "id": "T8ihqCs50pyL"
      },
      "execution_count": null,
      "outputs": []
    },
    {
      "cell_type": "code",
      "source": [
        "def train(replay_memory, predict_model, target_model, batch_size):\n",
        "  # Define the learning_rate and discount_factor\n",
        "  learning_rate = 5e-2\n",
        "  discount_factor = 0.5\n",
        "\n",
        "  # Using batch_size to sample experiences from replay_memory\n",
        "  batch = random.sample(replay_memory, batch_size)\n",
        "\n",
        "  # Get Q-value of current state using predict network\n",
        "  current_state = np.array([S[0] for S in batch])\n",
        "  current_state_Q = predict_model(current_state)\n",
        "  # The output of the model is a tf.tensor, we here transform it \n",
        "  # to numpy array to make it easier to treat\n",
        "  current_state_Q_update = current_state_Q.numpy()\n",
        "\n",
        "  # Get Q-value for next state using target network\n",
        "  next_state = np.array([S_next[3] for S_next in batch])\n",
        "  next_state_Q = target_model(next_state)\n",
        "  reward = np.array([reward[2] for reward in batch])\n",
        "\n",
        "  for index, (observation, action, reward, new_observation, terminated) in enumerate(batch):\n",
        "    if not terminated:\n",
        "      target_Q = reward + discount_factor * np.max(next_state_Q[index])\n",
        "    else:\n",
        "      target_Q = reward\n",
        "\n",
        "    current_state_Q_update[index, action] = (1 - learning_rate) * current_state[index, action] + learning_rate * target_Q\n",
        "\n",
        "  predict_model.fit(current_state, current_state_Q_update, batch_size=batch_size, verbose=0, shuffle=True)"
      ],
      "metadata": {
        "id": "LlI6nao1Pt1Z"
      },
      "execution_count": null,
      "outputs": []
    },
    {
      "cell_type": "code",
      "source": [
        "def run_train():\n",
        "  epsilon = 0.1\n",
        "  \n",
        "  # Define two model, one is target_model and one is predict_model\n",
        "  # Initialize the weight\n",
        "  predict_model = DQN(env.observation_space.shape, env.action_space.n)\n",
        "  target_model = DQN(env.observation_space.shape, env.action_space.n)\n",
        "  # First copy of weights between two model\n",
        "  target_model.set_weights(predict_model.get_weights())\n",
        "\n",
        "  # Define a rplay_memory and it's capacity\n",
        "  replay_memory = deque(maxlen=50000)\n",
        "\n",
        "  # Before we train the model, we need some experiences to store \n",
        "  # in replay_memory, otherwise we can't get experiences\n",
        "  step_to_train_predict_model = 0\n",
        "  step_to_update_target_model = 0\n",
        "\n",
        "  train_episodes = 100\n",
        "\n",
        "  # Loop for each episode\n",
        "  for episode in range(train_episodes):\n",
        "    reward_per_episode = 0\n",
        "    observation, info = env.reset()\n",
        "    done = False\n",
        "\n",
        "    # Loop for each time step in one episode\n",
        "    while not done:\n",
        "      step_to_train_predict_model += 1\n",
        "\n",
        "      # We use ε-greedy policy to select actions according to \n",
        "      # the Q-value calculed by predict_model.\n",
        "      action = policy(state=observation, model=predict_model, epsilon=epsilon)\n",
        "\n",
        "      # Take action and observe next state, reward, then add them\n",
        "      # into the replay_memory, here I added also terminated signal\n",
        "      # in order to use it in training \n",
        "      new_observation, reward, terminated, _, info = env.step(action)\n",
        "      replay_memory.append([observation, action, reward, new_observation, terminated])\n",
        "\n",
        "      # We train the model every 100 steps after, like first \n",
        "      # training we have 100 experiences stored in replay_memory, \n",
        "      # second train we have 200 experiences stored in replay_memory\n",
        "      # etc.\n",
        "      if step_to_train_predict_model > 100 and step_to_train_predict_model % 4 == 0:\n",
        "        train(replay_memory, predict_model=predict_model, target_model=target_model, batch_size=50)\n",
        "\n",
        "      # Here we update the target model's weight every 20 steps \n",
        "      # after updating the predict model\n",
        "      if step_to_update_target_model > 100 and step_to_update_target_model % 20 == 0:\n",
        "        target_model.set_weights(predict_model.get_weights())\n",
        "\n",
        "      # Then state pass to next state and repeat the loop until\n",
        "      # the ending of episode\n",
        "      observation = new_observation\n",
        "\n",
        "      reward_per_episode += reward\n",
        "\n",
        "      done = terminated\n",
        "    print(\"Reward for training episode \" + str(episode) + \" is \" + str(reward_per_episode))\n",
        "  \n",
        "  env.close()\n",
        "  return predict_model"
      ],
      "metadata": {
        "id": "X5Zc_kCJxLhv"
      },
      "execution_count": null,
      "outputs": []
    },
    {
      "cell_type": "code",
      "source": [
        "model = run_train()"
      ],
      "metadata": {
        "id": "-FDYbltGIQig"
      },
      "execution_count": null,
      "outputs": []
    },
    {
      "cell_type": "code",
      "source": [
        "import os\n",
        "from PIL import Image\n",
        "from IPython import display\n",
        "import imageio\n",
        "import numpy as np\n",
        "import PIL.ImageDraw as ImageDraw\n",
        "import matplotlib.pyplot as plt\n",
        "from IPython.display import HTML\n",
        "\n",
        "env = gym.make(\"CartPole-v1\", render_mode='rgb_array')\n",
        "observation, info = env.reset()\n",
        "\n",
        "def _label_with_episode_number(frame, episode_num):\n",
        "    im = Image.fromarray(frame)\n",
        "    drawer = ImageDraw.Draw(im)\n",
        "    if np.mean(im) < 128:\n",
        "        text_color = (255,255,255)\n",
        "    else:\n",
        "        text_color = (0,0,0)\n",
        "    drawer.text((im.size[0]/20,im.size[1]/18), f'Episode: {episode_num+1}', fill=text_color)\n",
        "    return im\n",
        "\n",
        "frames = []\n",
        "for t in range(1):\n",
        "  for i in range(100):\n",
        "    observation, info = env.reset()\n",
        "    action = policy(state=observation, model=model, epsilon=0)\n",
        "    observation, reward, terminated, truncated, info = env.step(action)\n",
        "    frame = env.render()\n",
        "    frames.append(_label_with_episode_number(frame, episode_num=t))\n",
        "    if terminated or truncated:\n",
        "      break\n",
        "env.close()\n",
        "\n",
        "imageio.mimwrite(os.path.join('CartPole_DQN.gif'), frames, fps=120)"
      ],
      "metadata": {
        "id": "EeQE_v8QNMhq"
      },
      "execution_count": null,
      "outputs": []
    },
    {
      "cell_type": "markdown",
      "source": [
        "# **Policy Gradient Methode in GYMNASIUM-CartPole_v1**"
      ],
      "metadata": {
        "id": "FmKaZy7RwtYQ"
      }
    },
    {
      "cell_type": "code",
      "source": [
        "!pip install mujoco==2.3.3"
      ],
      "metadata": {
        "id": "o-MMGKPH26kK"
      },
      "execution_count": null,
      "outputs": []
    },
    {
      "cell_type": "markdown",
      "source": [
        "## Creating a RL using Policy Gradient Methode with CartPole in gym"
      ],
      "metadata": {
        "id": "SAxcDIsE-TDr"
      }
    },
    {
      "cell_type": "code",
      "source": [
        "# Install used packages\n",
        "import argparse\n",
        "import gymnasium as gym\n",
        "import numpy as np\n",
        "from itertools import count\n",
        "from collections import namedtuple\n",
        "\n",
        "import torch\n",
        "import torch.nn as nn\n",
        "import torch.nn.functional as F\n",
        "import torch.optim as optim\n",
        "from torch.distributions import Categorical\n",
        "from collections import deque\n",
        "\n",
        "# Packages for generate a gif to show the result\n",
        "import os\n",
        "from PIL import Image\n",
        "from IPython import display\n",
        "import imageio\n",
        "import numpy as np\n",
        "import PIL.ImageDraw as ImageDraw\n",
        "import matplotlib.pyplot as plt\n",
        "from IPython.display import HTML"
      ],
      "metadata": {
        "id": "BjMi1sxZw4RW"
      },
      "execution_count": null,
      "outputs": []
    },
    {
      "cell_type": "code",
      "source": [
        "class Policy(nn.Module):\n",
        "  def __init__(self):\n",
        "    super(Policy, self).__init__()\n",
        "    self.input_layer = nn.Linear(4, 64)\n",
        "\n",
        "    # Define the actor layer\n",
        "    self.action = nn.Linear(64, 2)\n",
        "\n",
        "  def forward(self, x):\n",
        "    x = F.relu(self.input_layer(x))\n",
        "\n",
        "    # Actor choses action to take from state by returning the prob of each action\n",
        "    action_prob = F.softmax(self.action(x), dim=-1)\n",
        "\n",
        "    # Return the probability\n",
        "    return action_prob"
      ],
      "metadata": {
        "id": "qXVOiJez2_5Y"
      },
      "execution_count": null,
      "outputs": []
    },
    {
      "cell_type": "code",
      "source": [
        "class Critic(nn.Module):\n",
        "  def __init__(self):\n",
        "    super(Critic, self).__init__()\n",
        "    self.input_layer = nn.Linear(4, 64)\n",
        "\n",
        "    # Define the value layer\n",
        "    self.value = nn.Linear(64, 1)\n",
        "\n",
        "  def forward(self, x):\n",
        "    x = F.relu(self.input_layer(x))\n",
        "\n",
        "    State_value = self.value(x)\n",
        "\n",
        "    return State_value"
      ],
      "metadata": {
        "id": "__JvGfSM26nC"
      },
      "execution_count": null,
      "outputs": []
    },
    {
      "cell_type": "code",
      "source": [
        "def select_action(model, state):\n",
        "  state = torch.from_numpy(state).float().unsqueeze(0)\n",
        "  probs = model(state)\n",
        "\n",
        "  m = Categorical(probs)\n",
        "\n",
        "  action = m.sample()\n",
        "\n",
        "  return action.item(), m.log_prob(action)"
      ],
      "metadata": {
        "id": "jrtNBawNnVmm"
      },
      "execution_count": null,
      "outputs": []
    },
    {
      "cell_type": "code",
      "source": [
        "def train_model(state, new_state, reward, log_prob, terminated, policyModel, policy_optimizer, criticModel, stateval_optimizer):\n",
        "  discount_rate = 0.7\n",
        "  Reward = 0\n",
        "  policy_losses = []\n",
        "  state_value_losses = []\n",
        "  I = 1\n",
        "\n",
        "  state_tensor = torch.from_numpy(state).float().unsqueeze(0)\n",
        "  next_state_tensor = torch.from_numpy(new_state).float().unsqueeze(0)\n",
        "  \n",
        "  current_state_value = criticModel(state_tensor)\n",
        "  next_state_value = criticModel(next_state_tensor)\n",
        "\n",
        "  if terminated:\n",
        "    next_state_value = 0\n",
        "\n",
        "  # Value Loss using MSE\n",
        "  val_loss = F.mse_loss(reward + discount_rate * next_state_value, current_state_value)\n",
        "  #val_loss *= I\n",
        "\n",
        "  # Policy loss\n",
        "  advantage = reward + discount_rate * next_state_value.item() - current_state_value.item()\n",
        "  policy_loss = -log_prob * advantage\n",
        "  policy_loss *= I\n",
        "\n",
        "  # Backpropagate policy\n",
        "  policy_optimizer.zero_grad()\n",
        "  policy_loss.backward(retain_graph=True)\n",
        "  policy_optimizer.step()\n",
        "\n",
        "  # Backpropagate value\n",
        "  stateval_optimizer.zero_grad()\n",
        "  val_loss.backward()\n",
        "  stateval_optimizer.step()\n",
        "\n",
        "  I *= discount_rate"
      ],
      "metadata": {
        "id": "qk6lbdp0oOvA"
      },
      "execution_count": null,
      "outputs": []
    },
    {
      "cell_type": "code",
      "source": [
        "def main():\n",
        "  env = gym.make('CartPole-v1')\n",
        "  env.reset(seed=42)\n",
        "  # SavedAction = namedtuple('SavedAction', ['log_prob', 'Q_value'])\n",
        "  nb_episode = 1000\n",
        "\n",
        "  step_to_train_model = 0\n",
        "\n",
        "  # Init model\n",
        "  PolicyModel = Policy()\n",
        "  CriticModel = Critic()\n",
        "\n",
        "  #Init optimizer\n",
        "  policy_optimizer = optim.SGD(PolicyModel.parameters(), lr=0.001)\n",
        "  stateval_optimizer = optim.SGD(CriticModel.parameters(), lr=0.001)\n",
        "\n",
        "  # Define a rplay_memory and it's capacity\n",
        "  #replay_memory = deque(maxlen=50000)\n",
        "\n",
        "  reward_list = []\n",
        "  for i in range(nb_episode):\n",
        "\n",
        "    state, _ = env.reset()\n",
        "    episode_reward = 0\n",
        "\n",
        "    for i in range(1000):\n",
        "      # Select action from policy\n",
        "      action, log_prob = select_action(model=PolicyModel, state=state)\n",
        "\n",
        "      # Take action and observe St+1, reward\n",
        "      new_state, reward, terminated, _, info = env.step(action)\n",
        "      #replay_memory.append([observation, action, reward, new_state, terminated])\n",
        "\n",
        "      episode_reward += reward\n",
        "\n",
        "      if terminated:\n",
        "        break\n",
        "      \n",
        "      #if step_to_train_model > 100 & step_to_train_model % 50 == 0:\n",
        "      train_model(state, new_state, reward, log_prob, terminated, PolicyModel, policy_optimizer, CriticModel, stateval_optimizer)\n",
        "      \n",
        "      state = new_state\n",
        "      episode_reward += reward\n",
        "    reward_list.append(episode_reward)\n",
        "\n",
        "  env.close()\n",
        "\n",
        "  env = gym.make(\"CartPole-v1\", render_mode='rgb_array')\n",
        "  observation, info = env.reset()\n",
        "\n",
        "  def _label_with_episode_number(frame, episode_num, step_num):\n",
        "      im = Image.fromarray(frame)\n",
        "      drawer = ImageDraw.Draw(im)\n",
        "      if np.mean(im) < 128:\n",
        "          text_color = (255,255,255)\n",
        "      else:\n",
        "          text_color = (0,0,0)\n",
        "      #drawer.text((im.size[0]/20,im.size[1]/18), f'Episode: {episode_num+1}', fill=text_color)\n",
        "      drawer.text((im.size[0]/20,im.size[1]/18), f'Episode: {step_num+1}', fill=text_color)\n",
        "      return im\n",
        "\n",
        "  frames = []\n",
        "  for t in range(1):\n",
        "    for i in range(1000):\n",
        "      observation, info = env.reset()\n",
        "      action, log_prob = select_action(model=PolicyModel, state=observation)\n",
        "      observation, reward, terminated, truncated, info = env.step(action)\n",
        "      frame = env.render()\n",
        "      frames.append(_label_with_episode_number(frame, episode_num=t, step_num=i))\n",
        "      if terminated or truncated:\n",
        "        break\n",
        "  env.close()\n",
        "\n",
        "  imageio.mimwrite(os.path.join('CartPole_.gif'), frames, fps=120)"
      ],
      "metadata": {
        "id": "AOJEZlmio--y"
      },
      "execution_count": null,
      "outputs": []
    },
    {
      "cell_type": "code",
      "source": [
        "if __name__ == \"__main__\":\n",
        "  main()"
      ],
      "metadata": {
        "id": "aHS_lhYxEOXw"
      },
      "execution_count": null,
      "outputs": []
    }
  ]
}